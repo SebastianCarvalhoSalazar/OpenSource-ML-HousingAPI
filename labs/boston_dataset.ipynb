{
 "cells": [
  {
   "cell_type": "markdown",
   "metadata": {},
   "source": [
    "---\n",
    "# Sebastian Carvalho Salazar\n",
    "## Laboratory: Boston Dataset\n",
    "### 2025-10-08\n",
    "---"
   ]
  },
  {
   "cell_type": "code",
   "execution_count": null,
   "metadata": {},
   "outputs": [],
   "source": [
    "import pandas as pd\n",
    "import numpy as np\n",
    "import matplotlib.pyplot as plt"
   ]
  },
  {
   "cell_type": "code",
   "execution_count": null,
   "metadata": {},
   "outputs": [],
   "source": [
    "path = \"../data/raw/HousingData.csv\"\n",
    "df = pd.read_csv(path)\n",
    "df"
   ]
  },
  {
   "cell_type": "code",
   "execution_count": null,
   "metadata": {},
   "outputs": [],
   "source": [
    "df.dtypes"
   ]
  },
  {
   "cell_type": "code",
   "execution_count": null,
   "metadata": {},
   "outputs": [],
   "source": [
    "df.describe()"
   ]
  },
  {
   "cell_type": "code",
   "execution_count": null,
   "metadata": {},
   "outputs": [],
   "source": [
    "def plot_boxplots_matrix(df, n_cols=3, figsize=(15, 10)):\n",
    "    # Selecciona solo columnas numéricas\n",
    "    numeric_cols = df.select_dtypes(include=np.number).columns\n",
    "    n_vars = len(numeric_cols)\n",
    "\n",
    "    if n_vars == 0:\n",
    "        print(\"No hay columnas numéricas en el DataFrame.\")\n",
    "        return\n",
    "\n",
    "    # Calcula número de filas necesarias\n",
    "    n_rows = int(np.ceil(n_vars / n_cols))\n",
    "\n",
    "    # Crea la figura\n",
    "    fig, axes = plt.subplots(n_rows, n_cols, figsize=figsize)\n",
    "    axes = axes.flatten()\n",
    "\n",
    "    # Genera un boxplot por variable\n",
    "    for i, col in enumerate(numeric_cols):\n",
    "        axes[i].boxplot(df[col].dropna(), vert=True)\n",
    "        axes[i].set_title(col)\n",
    "        axes[i].grid(True, linestyle='--', alpha=0.6)\n",
    "\n",
    "    # Elimina los subplots vacíos\n",
    "    for j in range(i + 1, len(axes)):\n",
    "        fig.delaxes(axes[j])\n",
    "\n",
    "    plt.tight_layout()\n",
    "    plt.show()\n",
    "\n",
    "plot_boxplots_matrix(df, n_cols=4, figsize=(16, 10))    "
   ]
  },
  {
   "cell_type": "code",
   "execution_count": null,
   "metadata": {},
   "outputs": [],
   "source": [
    "df.dropna().sample(100).to_csv(\"../data/HousingData_test_batch_predict.csv\", index=False)"
   ]
  },
  {
   "cell_type": "markdown",
   "metadata": {},
   "source": [
    "### Conclusion:\n",
    "- Use RobustScaler."
   ]
  },
  {
   "cell_type": "markdown",
   "metadata": {},
   "source": [
    "# END\n",
    "---"
   ]
  }
 ],
 "metadata": {
  "kernelspec": {
   "display_name": "base",
   "language": "python",
   "name": "python3"
  },
  "language_info": {
   "codemirror_mode": {
    "name": "ipython",
    "version": 3
   },
   "file_extension": ".py",
   "mimetype": "text/x-python",
   "name": "python",
   "nbconvert_exporter": "python",
   "pygments_lexer": "ipython3",
   "version": "3.12.4"
  }
 },
 "nbformat": 4,
 "nbformat_minor": 2
}
